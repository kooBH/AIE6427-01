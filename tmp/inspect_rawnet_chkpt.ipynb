{
 "cells": [
  {
   "cell_type": "code",
   "execution_count": 1,
   "id": "32edf406-7e5e-4709-878b-ecc36ea5f0f6",
   "metadata": {},
   "outputs": [
    {
     "name": "stderr",
     "output_type": "stream",
     "text": [
      "/home/kbh/.conda/envs/dnn/lib/python3.9/site-packages/tqdm/auto.py:22: TqdmWarning: IProgress not found. Please update jupyter and ipywidgets. See https://ipywidgets.readthedocs.io/en/stable/user_install.html\n",
      "  from .autonotebook import tqdm as notebook_tqdm\n"
     ]
    }
   ],
   "source": [
    "import torch"
   ]
  },
  {
   "cell_type": "code",
   "execution_count": 2,
   "id": "07280753-4497-466d-9a04-57bda44f3f77",
   "metadata": {},
   "outputs": [],
   "source": [
    "x = torch.load(\"../rawnet3/chkpt/model.pt\")"
   ]
  },
  {
   "cell_type": "code",
   "execution_count": 4,
   "id": "0fbacfb2-24c1-47da-bc46-de10faf83bb3",
   "metadata": {},
   "outputs": [
    {
     "data": {
      "text/plain": [
       "odict_keys(['preprocess.0.flipped_filter', 'preprocess.1.weight', 'preprocess.1.bias', 'conv1.filterbank.low_hz_', 'conv1.filterbank.band_hz_', 'conv1.filterbank.window_', 'conv1.filterbank.n_', 'bn1.weight', 'bn1.bias', 'bn1.running_mean', 'bn1.running_var', 'bn1.num_batches_tracked', 'layer1.conv1.weight', 'layer1.conv1.bias', 'layer1.bn1.weight', 'layer1.bn1.bias', 'layer1.bn1.running_mean', 'layer1.bn1.running_var', 'layer1.bn1.num_batches_tracked', 'layer1.convs.0.weight', 'layer1.convs.0.bias', 'layer1.convs.1.weight', 'layer1.convs.1.bias', 'layer1.convs.2.weight', 'layer1.convs.2.bias', 'layer1.convs.3.weight', 'layer1.convs.3.bias', 'layer1.convs.4.weight', 'layer1.convs.4.bias', 'layer1.convs.5.weight', 'layer1.convs.5.bias', 'layer1.convs.6.weight', 'layer1.convs.6.bias', 'layer1.bns.0.weight', 'layer1.bns.0.bias', 'layer1.bns.0.running_mean', 'layer1.bns.0.running_var', 'layer1.bns.0.num_batches_tracked', 'layer1.bns.1.weight', 'layer1.bns.1.bias', 'layer1.bns.1.running_mean', 'layer1.bns.1.running_var', 'layer1.bns.1.num_batches_tracked', 'layer1.bns.2.weight', 'layer1.bns.2.bias', 'layer1.bns.2.running_mean', 'layer1.bns.2.running_var', 'layer1.bns.2.num_batches_tracked', 'layer1.bns.3.weight', 'layer1.bns.3.bias', 'layer1.bns.3.running_mean', 'layer1.bns.3.running_var', 'layer1.bns.3.num_batches_tracked', 'layer1.bns.4.weight', 'layer1.bns.4.bias', 'layer1.bns.4.running_mean', 'layer1.bns.4.running_var', 'layer1.bns.4.num_batches_tracked', 'layer1.bns.5.weight', 'layer1.bns.5.bias', 'layer1.bns.5.running_mean', 'layer1.bns.5.running_var', 'layer1.bns.5.num_batches_tracked', 'layer1.bns.6.weight', 'layer1.bns.6.bias', 'layer1.bns.6.running_mean', 'layer1.bns.6.running_var', 'layer1.bns.6.num_batches_tracked', 'layer1.conv3.weight', 'layer1.conv3.bias', 'layer1.bn3.weight', 'layer1.bn3.bias', 'layer1.bn3.running_mean', 'layer1.bn3.running_var', 'layer1.bn3.num_batches_tracked', 'layer1.afms.alpha', 'layer1.afms.fc.weight', 'layer1.afms.fc.bias', 'layer1.residual.0.weight', 'layer2.conv1.weight', 'layer2.conv1.bias', 'layer2.bn1.weight', 'layer2.bn1.bias', 'layer2.bn1.running_mean', 'layer2.bn1.running_var', 'layer2.bn1.num_batches_tracked', 'layer2.convs.0.weight', 'layer2.convs.0.bias', 'layer2.convs.1.weight', 'layer2.convs.1.bias', 'layer2.convs.2.weight', 'layer2.convs.2.bias', 'layer2.convs.3.weight', 'layer2.convs.3.bias', 'layer2.convs.4.weight', 'layer2.convs.4.bias', 'layer2.convs.5.weight', 'layer2.convs.5.bias', 'layer2.convs.6.weight', 'layer2.convs.6.bias', 'layer2.bns.0.weight', 'layer2.bns.0.bias', 'layer2.bns.0.running_mean', 'layer2.bns.0.running_var', 'layer2.bns.0.num_batches_tracked', 'layer2.bns.1.weight', 'layer2.bns.1.bias', 'layer2.bns.1.running_mean', 'layer2.bns.1.running_var', 'layer2.bns.1.num_batches_tracked', 'layer2.bns.2.weight', 'layer2.bns.2.bias', 'layer2.bns.2.running_mean', 'layer2.bns.2.running_var', 'layer2.bns.2.num_batches_tracked', 'layer2.bns.3.weight', 'layer2.bns.3.bias', 'layer2.bns.3.running_mean', 'layer2.bns.3.running_var', 'layer2.bns.3.num_batches_tracked', 'layer2.bns.4.weight', 'layer2.bns.4.bias', 'layer2.bns.4.running_mean', 'layer2.bns.4.running_var', 'layer2.bns.4.num_batches_tracked', 'layer2.bns.5.weight', 'layer2.bns.5.bias', 'layer2.bns.5.running_mean', 'layer2.bns.5.running_var', 'layer2.bns.5.num_batches_tracked', 'layer2.bns.6.weight', 'layer2.bns.6.bias', 'layer2.bns.6.running_mean', 'layer2.bns.6.running_var', 'layer2.bns.6.num_batches_tracked', 'layer2.conv3.weight', 'layer2.conv3.bias', 'layer2.bn3.weight', 'layer2.bn3.bias', 'layer2.bn3.running_mean', 'layer2.bn3.running_var', 'layer2.bn3.num_batches_tracked', 'layer2.afms.alpha', 'layer2.afms.fc.weight', 'layer2.afms.fc.bias', 'layer3.conv1.weight', 'layer3.conv1.bias', 'layer3.bn1.weight', 'layer3.bn1.bias', 'layer3.bn1.running_mean', 'layer3.bn1.running_var', 'layer3.bn1.num_batches_tracked', 'layer3.convs.0.weight', 'layer3.convs.0.bias', 'layer3.convs.1.weight', 'layer3.convs.1.bias', 'layer3.convs.2.weight', 'layer3.convs.2.bias', 'layer3.convs.3.weight', 'layer3.convs.3.bias', 'layer3.convs.4.weight', 'layer3.convs.4.bias', 'layer3.convs.5.weight', 'layer3.convs.5.bias', 'layer3.convs.6.weight', 'layer3.convs.6.bias', 'layer3.bns.0.weight', 'layer3.bns.0.bias', 'layer3.bns.0.running_mean', 'layer3.bns.0.running_var', 'layer3.bns.0.num_batches_tracked', 'layer3.bns.1.weight', 'layer3.bns.1.bias', 'layer3.bns.1.running_mean', 'layer3.bns.1.running_var', 'layer3.bns.1.num_batches_tracked', 'layer3.bns.2.weight', 'layer3.bns.2.bias', 'layer3.bns.2.running_mean', 'layer3.bns.2.running_var', 'layer3.bns.2.num_batches_tracked', 'layer3.bns.3.weight', 'layer3.bns.3.bias', 'layer3.bns.3.running_mean', 'layer3.bns.3.running_var', 'layer3.bns.3.num_batches_tracked', 'layer3.bns.4.weight', 'layer3.bns.4.bias', 'layer3.bns.4.running_mean', 'layer3.bns.4.running_var', 'layer3.bns.4.num_batches_tracked', 'layer3.bns.5.weight', 'layer3.bns.5.bias', 'layer3.bns.5.running_mean', 'layer3.bns.5.running_var', 'layer3.bns.5.num_batches_tracked', 'layer3.bns.6.weight', 'layer3.bns.6.bias', 'layer3.bns.6.running_mean', 'layer3.bns.6.running_var', 'layer3.bns.6.num_batches_tracked', 'layer3.conv3.weight', 'layer3.conv3.bias', 'layer3.bn3.weight', 'layer3.bn3.bias', 'layer3.bn3.running_mean', 'layer3.bn3.running_var', 'layer3.bn3.num_batches_tracked', 'layer3.afms.alpha', 'layer3.afms.fc.weight', 'layer3.afms.fc.bias', 'layer4.weight', 'layer4.bias', 'attention.0.weight', 'attention.0.bias', 'attention.2.weight', 'attention.2.bias', 'attention.2.running_mean', 'attention.2.running_var', 'attention.2.num_batches_tracked', 'attention.3.weight', 'attention.3.bias', 'bn5.weight', 'bn5.bias', 'bn5.running_mean', 'bn5.running_var', 'bn5.num_batches_tracked', 'fc6.weight', 'fc6.bias', 'bn6.weight', 'bn6.bias', 'bn6.running_mean', 'bn6.running_var', 'bn6.num_batches_tracked'])"
      ]
     },
     "execution_count": 4,
     "metadata": {},
     "output_type": "execute_result"
    }
   ],
   "source": [
    "x[\"model\"].keys()"
   ]
  },
  {
   "cell_type": "markdown",
   "id": "1146fbd8-6fbb-4e60-936a-ec215409b990",
   "metadata": {},
   "source": [
    "## Conversion"
   ]
  },
  {
   "cell_type": "code",
   "execution_count": 3,
   "id": "7a7c86f9-1bb6-4ea6-903f-e9ef0fe3f202",
   "metadata": {},
   "outputs": [],
   "source": [
    "def extract(in_name,out_name):\n",
    "    state = torch.load(\"../GenderClassification/chkpt/\"+in_name, map_location=\"cpu\")\n",
    "    state2 = {}\n",
    "    for key,value in state.items() :\n",
    "        if \"__L__.\" in key :\n",
    "            continue\n",
    "        state2[key.replace(\"__S__.\",\"\")]=value\n",
    "    torch.save(state2,\"../GenderClassification/chkpt/rawnet_{}_S.pt\".format(out_name))\n",
    "    state2 = {}\n",
    "    for key,value in state.items() :\n",
    "        if \"__S__.\" in key :\n",
    "            continue\n",
    "        state2[key.replace(\"__L__.\",\"\")]=value\n",
    "    torch.save(state2,\"../GenderClassification/chkpt/rawnet_{}_L.pt\".format(out_name))"
   ]
  },
  {
   "cell_type": "code",
   "execution_count": 5,
   "id": "ab81dafe-b6ea-4cc4-9c95-258b1dc13c01",
   "metadata": {},
   "outputs": [],
   "source": [
    "extract(\"Rawnet4_8k_200_1.model\",\"8kc4v3\")\n",
    "extract(\"Rawnet4_8k_200_2.model\",\"8kc4v4\")\n",
    "extract(\"Rawnet4_8k_200_3.model\",\"8kc4v5\")"
   ]
  }
 ],
 "metadata": {
  "kernelspec": {
   "display_name": "Python 3 (ipykernel)",
   "language": "python",
   "name": "python3"
  },
  "language_info": {
   "codemirror_mode": {
    "name": "ipython",
    "version": 3
   },
   "file_extension": ".py",
   "mimetype": "text/x-python",
   "name": "python",
   "nbconvert_exporter": "python",
   "pygments_lexer": "ipython3",
   "version": "3.9.12"
  }
 },
 "nbformat": 4,
 "nbformat_minor": 5
}
